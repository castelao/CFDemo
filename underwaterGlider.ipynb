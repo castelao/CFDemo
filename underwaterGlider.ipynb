{
 "cells": [
  {
   "cell_type": "markdown",
   "metadata": {},
   "source": [
    "# Underwater Glider\n",
    "\n",
    "\n",
    "Things to talk about:\n",
    "  - trajectoryProfile, probably start by discussing the sampling characteristics of a glider, which motivates the use of a trajectory profile, which will justify some of the choices later.\n",
    "  - Dimensions used\n",
    "  - Coordinates\n",
    "  - Aux-coordinates\n",
    "  - Probably use a dummy dataset to avoid dependency in larger files? Maybe use a Spray dataset with only a few levels?! Probably split in three examples, binned data (regular grid), full resolution data (profile x obs), and ragged array (obs)."
   ]
  },
  {
   "cell_type": "code",
   "execution_count": 3,
   "metadata": {},
   "outputs": [],
   "source": [
    "import numpy as np\n",
    "import cfdm"
   ]
  }
 ],
 "metadata": {
  "kernelspec": {
   "display_name": "Python 3",
   "language": "python",
   "name": "python3"
  },
  "language_info": {
   "codemirror_mode": {
    "name": "ipython",
    "version": 3
   },
   "file_extension": ".py",
   "mimetype": "text/x-python",
   "name": "python",
   "nbconvert_exporter": "python",
   "pygments_lexer": "ipython3",
   "version": "3.7.2"
  }
 },
 "nbformat": 4,
 "nbformat_minor": 2
}
